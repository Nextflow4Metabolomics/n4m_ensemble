{
 "cells": [
  {
   "cell_type": "code",
   "execution_count": 1,
   "id": "creative-behalf",
   "metadata": {},
   "outputs": [],
   "source": [
    "import pandas as pd\n",
    "import numpy as np"
   ]
  },
  {
   "cell_type": "markdown",
   "id": "western-companion",
   "metadata": {},
   "source": [
    "## Identify Overlapping Peaks of Two Peak Tables"
   ]
  },
  {
   "cell_type": "code",
   "execution_count": 44,
   "id": "brutal-runner",
   "metadata": {},
   "outputs": [],
   "source": [
    "def ppm_calculation(x, y):\n",
    "    return abs(x-y)*10e6/y"
   ]
  },
  {
   "cell_type": "code",
   "execution_count": 45,
   "id": "continental-midnight",
   "metadata": {},
   "outputs": [],
   "source": [
    "def n_overlapping_peaks(t_1, t_2, col_name_mz, col_name_rt, ppm_threshold, rt_tolerance):\n",
    "    # Calculating number of overlapping peaks between two peak tables. Make sure t_2 has less rows than t_1\n",
    "    n = 0\n",
    "    for i in range(len(t_2)):\n",
    "        mz = t_2[col_name_mz].iloc[i]\n",
    "        rt = t_2[col_name_rt].iloc[i]\n",
    "        if len(t_1[(ppm_calculation(mz, t_1[col_name_mz])<=ppm_threshold) & (abs(table_1[col_name_rt] - rt) < rt_tolerance)])>0:\n",
    "            n += 1\n",
    "    return n"
   ]
  },
  {
   "cell_type": "markdown",
   "id": "concerned-directory",
   "metadata": {},
   "source": [
    "### Local CMD VS HPC CMD"
   ]
  },
  {
   "cell_type": "code",
   "execution_count": 61,
   "id": "cooperative-marking",
   "metadata": {},
   "outputs": [
    {
     "name": "stderr",
     "output_type": "stream",
     "text": [
      "/Users/xinsongdu/.pyenv/versions/miniconda3-latest/lib/python3.8/site-packages/IPython/core/interactiveshell.py:3146: DtypeWarning: Columns (14) have mixed types.Specify dtype option on import or set low_memory=False.\n",
      "  has_raised = await self.run_ast_nodes(code_ast.body, cell_name,\n"
     ]
    }
   ],
   "source": [
    "table_1 = pd.read_csv(\"../manuscript/peak_table/hpc_cmd/ms-dial/AlignResult-20231272341.txt\", delimiter=\"\\t\", header=4)"
   ]
  },
  {
   "cell_type": "code",
   "execution_count": 62,
   "id": "turned-certificate",
   "metadata": {},
   "outputs": [],
   "source": [
    "table_2 = pd.read_csv(\"../manuscript/peak_table/local_cmd/ms-dial/AlignResult-2023129133.txt\", delimiter=\"\\t\", header=4)"
   ]
  },
  {
   "cell_type": "code",
   "execution_count": 63,
   "id": "computational-attitude",
   "metadata": {},
   "outputs": [
    {
     "data": {
      "text/plain": [
       "25951"
      ]
     },
     "execution_count": 63,
     "metadata": {},
     "output_type": "execute_result"
    }
   ],
   "source": [
    "len(table_1)"
   ]
  },
  {
   "cell_type": "code",
   "execution_count": 64,
   "id": "black-happening",
   "metadata": {},
   "outputs": [
    {
     "data": {
      "text/plain": [
       "25445"
      ]
     },
     "execution_count": 64,
     "metadata": {},
     "output_type": "execute_result"
    }
   ],
   "source": [
    "len(table_2)"
   ]
  },
  {
   "cell_type": "code",
   "execution_count": 65,
   "id": "frozen-speech",
   "metadata": {},
   "outputs": [
    {
     "data": {
      "text/plain": [
       "18857"
      ]
     },
     "execution_count": 65,
     "metadata": {},
     "output_type": "execute_result"
    }
   ],
   "source": [
    "n_overlapping_peaks(table_1, table_2, \"Average Mz\", \"Average Rt(min)\", 10, 0.3)"
   ]
  },
  {
   "cell_type": "markdown",
   "id": "saving-dinner",
   "metadata": {},
   "source": [
    "### HPC NF VS Local NF"
   ]
  },
  {
   "cell_type": "code",
   "execution_count": 51,
   "id": "improved-earthquake",
   "metadata": {},
   "outputs": [
    {
     "name": "stderr",
     "output_type": "stream",
     "text": [
      "/Users/xinsongdu/.pyenv/versions/miniconda3-latest/lib/python3.8/site-packages/IPython/core/interactiveshell.py:3146: DtypeWarning: Columns (14) have mixed types.Specify dtype option on import or set low_memory=False.\n",
      "  has_raised = await self.run_ast_nodes(code_ast.body, cell_name,\n"
     ]
    }
   ],
   "source": [
    "table_1 = pd.read_csv(\"../manuscript/peak_table/hpc_nf/ms-dial/AlignResult-202212142025.txt\", delimiter=\"\\t\", header=4)"
   ]
  },
  {
   "cell_type": "code",
   "execution_count": 52,
   "id": "starting-audio",
   "metadata": {},
   "outputs": [],
   "source": [
    "table_2 = pd.read_csv(\"../manuscript/peak_table/local_nf/ms-dial/AlignResult-20231271922.txt\", delimiter=\"\\t\", header=4)"
   ]
  },
  {
   "cell_type": "code",
   "execution_count": 53,
   "id": "yellow-trick",
   "metadata": {},
   "outputs": [
    {
     "data": {
      "text/plain": [
       "25951"
      ]
     },
     "execution_count": 53,
     "metadata": {},
     "output_type": "execute_result"
    }
   ],
   "source": [
    "len(table_1)"
   ]
  },
  {
   "cell_type": "code",
   "execution_count": 54,
   "id": "effective-bumper",
   "metadata": {},
   "outputs": [
    {
     "data": {
      "text/plain": [
       "25445"
      ]
     },
     "execution_count": 54,
     "metadata": {},
     "output_type": "execute_result"
    }
   ],
   "source": [
    "len(table_2)"
   ]
  },
  {
   "cell_type": "code",
   "execution_count": 55,
   "id": "fifth-blair",
   "metadata": {},
   "outputs": [
    {
     "data": {
      "text/plain": [
       "18857"
      ]
     },
     "execution_count": 55,
     "metadata": {},
     "output_type": "execute_result"
    }
   ],
   "source": [
    "n_overlapping_peaks(table_1, table_2, \"Average Mz\", \"Average Rt(min)\", 10, 0.3)"
   ]
  },
  {
   "cell_type": "markdown",
   "id": "living-evanescence",
   "metadata": {},
   "source": [
    "### HPC CMD VS HPC NF"
   ]
  },
  {
   "cell_type": "code",
   "execution_count": 56,
   "id": "optimum-navigator",
   "metadata": {},
   "outputs": [
    {
     "name": "stderr",
     "output_type": "stream",
     "text": [
      "/Users/xinsongdu/.pyenv/versions/miniconda3-latest/lib/python3.8/site-packages/IPython/core/interactiveshell.py:3146: DtypeWarning: Columns (14) have mixed types.Specify dtype option on import or set low_memory=False.\n",
      "  has_raised = await self.run_ast_nodes(code_ast.body, cell_name,\n"
     ]
    }
   ],
   "source": [
    "table_1 = pd.read_csv(\"../manuscript/peak_table/hpc_cmd/ms-dial/AlignResult-20231272341.txt\", delimiter=\"\\t\", header=4)"
   ]
  },
  {
   "cell_type": "code",
   "execution_count": 57,
   "id": "prospective-republic",
   "metadata": {},
   "outputs": [],
   "source": [
    "table_2 = pd.read_csv(\"../manuscript/peak_table/hpc_nf/ms-dial/AlignResult-202212142025.txt\", delimiter=\"\\t\", header=4)"
   ]
  },
  {
   "cell_type": "code",
   "execution_count": 58,
   "id": "weird-behalf",
   "metadata": {},
   "outputs": [
    {
     "data": {
      "text/plain": [
       "25951"
      ]
     },
     "execution_count": 58,
     "metadata": {},
     "output_type": "execute_result"
    }
   ],
   "source": [
    "len(table_1)"
   ]
  },
  {
   "cell_type": "code",
   "execution_count": 59,
   "id": "certain-selection",
   "metadata": {},
   "outputs": [
    {
     "data": {
      "text/plain": [
       "25951"
      ]
     },
     "execution_count": 59,
     "metadata": {},
     "output_type": "execute_result"
    }
   ],
   "source": [
    "len(table_2)"
   ]
  },
  {
   "cell_type": "code",
   "execution_count": 60,
   "id": "assumed-classification",
   "metadata": {},
   "outputs": [
    {
     "data": {
      "text/plain": [
       "25951"
      ]
     },
     "execution_count": 60,
     "metadata": {},
     "output_type": "execute_result"
    }
   ],
   "source": [
    "n_overlapping_peaks(table_1, table_2, \"Average Mz\", \"Average Rt(min)\", 10, 0.3)"
   ]
  },
  {
   "cell_type": "markdown",
   "id": "necessary-angel",
   "metadata": {},
   "source": [
    "### Local CMD VS Local NF"
   ]
  },
  {
   "cell_type": "code",
   "execution_count": 68,
   "id": "preceding-alaska",
   "metadata": {},
   "outputs": [
    {
     "name": "stderr",
     "output_type": "stream",
     "text": [
      "/Users/xinsongdu/.pyenv/versions/miniconda3-latest/lib/python3.8/site-packages/IPython/core/interactiveshell.py:3146: DtypeWarning: Columns (14) have mixed types.Specify dtype option on import or set low_memory=False.\n",
      "  has_raised = await self.run_ast_nodes(code_ast.body, cell_name,\n"
     ]
    }
   ],
   "source": [
    "table_1 = pd.read_csv(\"../manuscript/peak_table/local_cmd/ms-dial/AlignResult-2023129133.txt\", delimiter=\"\\t\", header=4)"
   ]
  },
  {
   "cell_type": "code",
   "execution_count": 69,
   "id": "drawn-diamond",
   "metadata": {},
   "outputs": [],
   "source": [
    "table_2 = pd.read_csv(\"../manuscript/peak_table/local_nf/ms-dial/AlignResult-20231271922.txt\", delimiter=\"\\t\", header=4)"
   ]
  },
  {
   "cell_type": "code",
   "execution_count": 70,
   "id": "peripheral-apparel",
   "metadata": {},
   "outputs": [
    {
     "data": {
      "text/plain": [
       "25445"
      ]
     },
     "execution_count": 70,
     "metadata": {},
     "output_type": "execute_result"
    }
   ],
   "source": [
    "len(table_1)"
   ]
  },
  {
   "cell_type": "code",
   "execution_count": 71,
   "id": "southwest-bunny",
   "metadata": {},
   "outputs": [
    {
     "data": {
      "text/plain": [
       "25445"
      ]
     },
     "execution_count": 71,
     "metadata": {},
     "output_type": "execute_result"
    }
   ],
   "source": [
    "len(table_2)"
   ]
  },
  {
   "cell_type": "code",
   "execution_count": 72,
   "id": "printable-making",
   "metadata": {},
   "outputs": [
    {
     "data": {
      "text/plain": [
       "25445"
      ]
     },
     "execution_count": 72,
     "metadata": {},
     "output_type": "execute_result"
    }
   ],
   "source": [
    "n_overlapping_peaks(table_1, table_2, \"Average Mz\", \"Average Rt(min)\", 10, 0.3)"
   ]
  },
  {
   "cell_type": "markdown",
   "id": "italic-windsor",
   "metadata": {},
   "source": [
    "### Overlapping Between Local and Benchmark"
   ]
  },
  {
   "cell_type": "code",
   "execution_count": 103,
   "id": "increased-addition",
   "metadata": {},
   "outputs": [
    {
     "name": "stderr",
     "output_type": "stream",
     "text": [
      "/Users/xinsongdu/.pyenv/versions/miniconda3-latest/lib/python3.8/site-packages/IPython/core/interactiveshell.py:3146: DtypeWarning: Columns (14) have mixed types.Specify dtype option on import or set low_memory=False.\n",
      "  has_raised = await self.run_ast_nodes(code_ast.body, cell_name,\n"
     ]
    }
   ],
   "source": [
    "table_1 = pd.read_csv(\"../manuscript/peak_table/local_nf/ms-dial/AlignResult-20231271922.txt\", delimiter=\"\\t\", header=4)"
   ]
  },
  {
   "cell_type": "code",
   "execution_count": 104,
   "id": "lesser-circuit",
   "metadata": {},
   "outputs": [],
   "source": [
    "table_2 = pd.read_excel(\"../manuscript/benchmark_libs/lib.xlsx\", sheet_name=\"QE HF dataset_TableS8\", header=6)"
   ]
  },
  {
   "cell_type": "code",
   "execution_count": 105,
   "id": "wooden-yugoslavia",
   "metadata": {},
   "outputs": [
    {
     "data": {
      "text/plain": [
       "25445"
      ]
     },
     "execution_count": 105,
     "metadata": {},
     "output_type": "execute_result"
    }
   ],
   "source": [
    "len(table_1)"
   ]
  },
  {
   "cell_type": "code",
   "execution_count": 106,
   "id": "adult-union",
   "metadata": {},
   "outputs": [
    {
     "data": {
      "text/html": [
       "<div>\n",
       "<style scoped>\n",
       "    .dataframe tbody tr th:only-of-type {\n",
       "        vertical-align: middle;\n",
       "    }\n",
       "\n",
       "    .dataframe tbody tr th {\n",
       "        vertical-align: top;\n",
       "    }\n",
       "\n",
       "    .dataframe thead th {\n",
       "        text-align: right;\n",
       "    }\n",
       "</style>\n",
       "<table border=\"1\" class=\"dataframe\">\n",
       "  <thead>\n",
       "    <tr style=\"text-align: right;\">\n",
       "      <th></th>\n",
       "      <th>Alignment ID</th>\n",
       "      <th>Average Rt(min)</th>\n",
       "      <th>Average Mz</th>\n",
       "      <th>Metabolite name</th>\n",
       "      <th>Adduct type</th>\n",
       "      <th>Post curation result</th>\n",
       "      <th>Fill %</th>\n",
       "      <th>MS/MS assigned</th>\n",
       "      <th>Reference RT</th>\n",
       "      <th>Reference m/z</th>\n",
       "      <th>...</th>\n",
       "      <th>SA1</th>\n",
       "      <th>SA2</th>\n",
       "      <th>SA3</th>\n",
       "      <th>SA4</th>\n",
       "      <th>SA5</th>\n",
       "      <th>SB1</th>\n",
       "      <th>SB2</th>\n",
       "      <th>SB3</th>\n",
       "      <th>SB4</th>\n",
       "      <th>SB5</th>\n",
       "    </tr>\n",
       "  </thead>\n",
       "  <tbody>\n",
       "    <tr>\n",
       "      <th>0</th>\n",
       "      <td>0</td>\n",
       "      <td>0.562</td>\n",
       "      <td>100.01421</td>\n",
       "      <td>Unknown</td>\n",
       "      <td>[M+2H]2+</td>\n",
       "      <td>NaN</td>\n",
       "      <td>0.3</td>\n",
       "      <td>False</td>\n",
       "      <td>NaN</td>\n",
       "      <td>NaN</td>\n",
       "      <td>...</td>\n",
       "      <td>8714982.00</td>\n",
       "      <td>7387047.5</td>\n",
       "      <td>10247660.0</td>\n",
       "      <td>8517238.0</td>\n",
       "      <td>6663123.0</td>\n",
       "      <td>7660357.00</td>\n",
       "      <td>6522387.5</td>\n",
       "      <td>6514624.0</td>\n",
       "      <td>9974121.0</td>\n",
       "      <td>9562859.0</td>\n",
       "    </tr>\n",
       "    <tr>\n",
       "      <th>1</th>\n",
       "      <td>1</td>\n",
       "      <td>35.967</td>\n",
       "      <td>100.01428</td>\n",
       "      <td>Unknown</td>\n",
       "      <td>[M+NH4]2+</td>\n",
       "      <td>adduct linked to 2150_[M+H]+</td>\n",
       "      <td>0.9</td>\n",
       "      <td>False</td>\n",
       "      <td>NaN</td>\n",
       "      <td>NaN</td>\n",
       "      <td>...</td>\n",
       "      <td>765282.90</td>\n",
       "      <td>942749.0</td>\n",
       "      <td>1229463.0</td>\n",
       "      <td>880391.2</td>\n",
       "      <td>1132224.9</td>\n",
       "      <td>907290.06</td>\n",
       "      <td>1239561.4</td>\n",
       "      <td>1271661.1</td>\n",
       "      <td>1253242.1</td>\n",
       "      <td>1348959.9</td>\n",
       "    </tr>\n",
       "    <tr>\n",
       "      <th>2</th>\n",
       "      <td>2</td>\n",
       "      <td>0.500</td>\n",
       "      <td>100.01443</td>\n",
       "      <td>Unknown</td>\n",
       "      <td>[M+H]2+</td>\n",
       "      <td>adduct linked to 3419_[M+Na]+</td>\n",
       "      <td>1.0</td>\n",
       "      <td>False</td>\n",
       "      <td>NaN</td>\n",
       "      <td>NaN</td>\n",
       "      <td>...</td>\n",
       "      <td>8001129.00</td>\n",
       "      <td>13925881.0</td>\n",
       "      <td>16331838.0</td>\n",
       "      <td>16200029.0</td>\n",
       "      <td>18298616.0</td>\n",
       "      <td>6891007.50</td>\n",
       "      <td>15492309.0</td>\n",
       "      <td>16130891.0</td>\n",
       "      <td>17702120.0</td>\n",
       "      <td>20029132.0</td>\n",
       "    </tr>\n",
       "    <tr>\n",
       "      <th>3</th>\n",
       "      <td>3</td>\n",
       "      <td>0.592</td>\n",
       "      <td>100.01444</td>\n",
       "      <td>Unknown</td>\n",
       "      <td>[M+2H]2+</td>\n",
       "      <td>NaN</td>\n",
       "      <td>0.9</td>\n",
       "      <td>False</td>\n",
       "      <td>NaN</td>\n",
       "      <td>NaN</td>\n",
       "      <td>...</td>\n",
       "      <td>8898810.00</td>\n",
       "      <td>10046386.0</td>\n",
       "      <td>9382828.0</td>\n",
       "      <td>10474542.0</td>\n",
       "      <td>10473924.0</td>\n",
       "      <td>12107133.00</td>\n",
       "      <td>8653832.0</td>\n",
       "      <td>9658213.0</td>\n",
       "      <td>12457828.0</td>\n",
       "      <td>11770822.0</td>\n",
       "    </tr>\n",
       "    <tr>\n",
       "      <th>4</th>\n",
       "      <td>4</td>\n",
       "      <td>31.647</td>\n",
       "      <td>100.06959</td>\n",
       "      <td>Unknown</td>\n",
       "      <td>[M+H]+</td>\n",
       "      <td>NaN</td>\n",
       "      <td>1.0</td>\n",
       "      <td>False</td>\n",
       "      <td>NaN</td>\n",
       "      <td>NaN</td>\n",
       "      <td>...</td>\n",
       "      <td>824087.44</td>\n",
       "      <td>1108073.5</td>\n",
       "      <td>1230883.0</td>\n",
       "      <td>1154022.8</td>\n",
       "      <td>1614246.2</td>\n",
       "      <td>2215985.00</td>\n",
       "      <td>2037453.5</td>\n",
       "      <td>2112368.2</td>\n",
       "      <td>2052877.8</td>\n",
       "      <td>1913928.4</td>\n",
       "    </tr>\n",
       "  </tbody>\n",
       "</table>\n",
       "<p>5 rows × 42 columns</p>\n",
       "</div>"
      ],
      "text/plain": [
       "   Alignment ID  Average Rt(min)  Average Mz Metabolite name Adduct type  \\\n",
       "0             0            0.562   100.01421         Unknown    [M+2H]2+   \n",
       "1             1           35.967   100.01428         Unknown   [M+NH4]2+   \n",
       "2             2            0.500   100.01443         Unknown     [M+H]2+   \n",
       "3             3            0.592   100.01444         Unknown    [M+2H]2+   \n",
       "4             4           31.647   100.06959         Unknown      [M+H]+   \n",
       "\n",
       "            Post curation result  Fill %  MS/MS assigned  Reference RT  \\\n",
       "0                            NaN     0.3           False           NaN   \n",
       "1   adduct linked to 2150_[M+H]+     0.9           False           NaN   \n",
       "2  adduct linked to 3419_[M+Na]+     1.0           False           NaN   \n",
       "3                            NaN     0.9           False           NaN   \n",
       "4                            NaN     1.0           False           NaN   \n",
       "\n",
       "   Reference m/z  ...         SA1         SA2         SA3         SA4  \\\n",
       "0            NaN  ...  8714982.00   7387047.5  10247660.0   8517238.0   \n",
       "1            NaN  ...   765282.90    942749.0   1229463.0    880391.2   \n",
       "2            NaN  ...  8001129.00  13925881.0  16331838.0  16200029.0   \n",
       "3            NaN  ...  8898810.00  10046386.0   9382828.0  10474542.0   \n",
       "4            NaN  ...   824087.44   1108073.5   1230883.0   1154022.8   \n",
       "\n",
       "          SA5          SB1         SB2         SB3         SB4         SB5  \n",
       "0   6663123.0   7660357.00   6522387.5   6514624.0   9974121.0   9562859.0  \n",
       "1   1132224.9    907290.06   1239561.4   1271661.1   1253242.1   1348959.9  \n",
       "2  18298616.0   6891007.50  15492309.0  16130891.0  17702120.0  20029132.0  \n",
       "3  10473924.0  12107133.00   8653832.0   9658213.0  12457828.0  11770822.0  \n",
       "4   1614246.2   2215985.00   2037453.5   2112368.2   2052877.8   1913928.4  \n",
       "\n",
       "[5 rows x 42 columns]"
      ]
     },
     "execution_count": 106,
     "metadata": {},
     "output_type": "execute_result"
    }
   ],
   "source": [
    "table_1.head()"
   ]
  },
  {
   "cell_type": "code",
   "execution_count": 107,
   "id": "golden-supervision",
   "metadata": {},
   "outputs": [
    {
     "data": {
      "text/plain": [
       "0         100.01421\n",
       "1         100.01428\n",
       "2         100.01443\n",
       "3         100.01444\n",
       "4         100.06959\n",
       "            ...    \n",
       "25440    1490.57178\n",
       "25441    1490.92615\n",
       "25442    1491.03601\n",
       "25443    1497.48169\n",
       "25444    1497.52856\n",
       "Name: Average Mz, Length: 25445, dtype: float64"
      ]
     },
     "execution_count": 107,
     "metadata": {},
     "output_type": "execute_result"
    }
   ],
   "source": [
    "table_1[\"Average Mz\"]"
   ]
  },
  {
   "cell_type": "code",
   "execution_count": 108,
   "id": "centered-career",
   "metadata": {},
   "outputs": [
    {
     "data": {
      "text/plain": [
       "0         0.562\n",
       "1        35.967\n",
       "2         0.500\n",
       "3         0.592\n",
       "4        31.647\n",
       "          ...  \n",
       "25440    30.313\n",
       "25441     4.751\n",
       "25442     4.750\n",
       "25443    31.699\n",
       "25444    30.323\n",
       "Name: Average Rt(min), Length: 25445, dtype: float64"
      ]
     },
     "execution_count": 108,
     "metadata": {},
     "output_type": "execute_result"
    }
   ],
   "source": [
    "table_1[\"Average Rt(min)\"]"
   ]
  },
  {
   "cell_type": "code",
   "execution_count": 109,
   "id": "owned-mention",
   "metadata": {},
   "outputs": [
    {
     "data": {
      "text/plain": [
       "836"
      ]
     },
     "execution_count": 109,
     "metadata": {},
     "output_type": "execute_result"
    }
   ],
   "source": [
    "len(table_2)"
   ]
  },
  {
   "cell_type": "code",
   "execution_count": 110,
   "id": "injured-belief",
   "metadata": {},
   "outputs": [
    {
     "data": {
      "text/html": [
       "<div>\n",
       "<style scoped>\n",
       "    .dataframe tbody tr th:only-of-type {\n",
       "        vertical-align: middle;\n",
       "    }\n",
       "\n",
       "    .dataframe tbody tr th {\n",
       "        vertical-align: top;\n",
       "    }\n",
       "\n",
       "    .dataframe thead th {\n",
       "        text-align: right;\n",
       "    }\n",
       "</style>\n",
       "<table border=\"1\" class=\"dataframe\">\n",
       "  <thead>\n",
       "    <tr style=\"text-align: right;\">\n",
       "      <th></th>\n",
       "      <th>Feature number</th>\n",
       "      <th>Compound formula</th>\n",
       "      <th>Adduct</th>\n",
       "      <th>Average Mz</th>\n",
       "      <th>Average Rt(min)</th>\n",
       "      <th>Fold change</th>\n",
       "      <th>p-value</th>\n",
       "      <th>Compound concentration ratio</th>\n",
       "      <th>Unnamed: 8</th>\n",
       "      <th>Unnamed: 9</th>\n",
       "    </tr>\n",
       "  </thead>\n",
       "  <tbody>\n",
       "    <tr>\n",
       "      <th>0</th>\n",
       "      <td>1</td>\n",
       "      <td>C21H26N2S2</td>\n",
       "      <td>+H</td>\n",
       "      <td>371.1617</td>\n",
       "      <td>18.85</td>\n",
       "      <td>0.474166</td>\n",
       "      <td>0.000481</td>\n",
       "      <td>1/2</td>\n",
       "      <td>NaN</td>\n",
       "      <td>NaN</td>\n",
       "    </tr>\n",
       "    <tr>\n",
       "      <th>1</th>\n",
       "      <td>2</td>\n",
       "      <td>C25H31NO6</td>\n",
       "      <td>+H</td>\n",
       "      <td>442.2233</td>\n",
       "      <td>17.66</td>\n",
       "      <td>21.230982</td>\n",
       "      <td>0.000001</td>\n",
       "      <td>16/1</td>\n",
       "      <td>NaN</td>\n",
       "      <td>NaN</td>\n",
       "    </tr>\n",
       "    <tr>\n",
       "      <th>2</th>\n",
       "      <td>3</td>\n",
       "      <td>C14H17N3O2S</td>\n",
       "      <td>+H</td>\n",
       "      <td>292.1118</td>\n",
       "      <td>3.01</td>\n",
       "      <td>1.905322</td>\n",
       "      <td>0.019356</td>\n",
       "      <td>2/1</td>\n",
       "      <td>NaN</td>\n",
       "      <td>NaN</td>\n",
       "    </tr>\n",
       "    <tr>\n",
       "      <th>3</th>\n",
       "      <td>4</td>\n",
       "      <td>C27H31N7OS</td>\n",
       "      <td>+H</td>\n",
       "      <td>502.2395</td>\n",
       "      <td>22.78</td>\n",
       "      <td>1.062849</td>\n",
       "      <td>0.289866</td>\n",
       "      <td>1/1</td>\n",
       "      <td>NaN</td>\n",
       "      <td>NaN</td>\n",
       "    </tr>\n",
       "    <tr>\n",
       "      <th>4</th>\n",
       "      <td>5</td>\n",
       "      <td>C20H23NO4</td>\n",
       "      <td>+H</td>\n",
       "      <td>342.1706</td>\n",
       "      <td>3.37</td>\n",
       "      <td>1.066033</td>\n",
       "      <td>0.399052</td>\n",
       "      <td>1/1</td>\n",
       "      <td>NaN</td>\n",
       "      <td>NaN</td>\n",
       "    </tr>\n",
       "  </tbody>\n",
       "</table>\n",
       "</div>"
      ],
      "text/plain": [
       "   Feature number Compound formula Adduct  Average Mz  Average Rt(min)  \\\n",
       "0               1       C21H26N2S2     +H    371.1617            18.85   \n",
       "1               2        C25H31NO6     +H    442.2233            17.66   \n",
       "2               3      C14H17N3O2S     +H    292.1118             3.01   \n",
       "3               4       C27H31N7OS     +H    502.2395            22.78   \n",
       "4               5        C20H23NO4     +H    342.1706             3.37   \n",
       "\n",
       "   Fold change   p-value Compound concentration ratio  Unnamed: 8  Unnamed: 9  \n",
       "0     0.474166  0.000481                          1/2         NaN         NaN  \n",
       "1    21.230982  0.000001                         16/1         NaN         NaN  \n",
       "2     1.905322  0.019356                          2/1         NaN         NaN  \n",
       "3     1.062849  0.289866                          1/1         NaN         NaN  \n",
       "4     1.066033  0.399052                          1/1         NaN         NaN  "
      ]
     },
     "execution_count": 110,
     "metadata": {},
     "output_type": "execute_result"
    }
   ],
   "source": [
    "table_2.head()"
   ]
  },
  {
   "cell_type": "code",
   "execution_count": 111,
   "id": "three-opera",
   "metadata": {},
   "outputs": [
    {
     "data": {
      "text/plain": [
       "401"
      ]
     },
     "execution_count": 111,
     "metadata": {},
     "output_type": "execute_result"
    }
   ],
   "source": [
    "n_overlapping_peaks(table_1, table_2, \"Average Mz\", \"Average Rt(min)\", 10, 0.3)"
   ]
  },
  {
   "cell_type": "markdown",
   "id": "enabling-nothing",
   "metadata": {},
   "source": [
    "### Overlapping Between HPC and Benchmark"
   ]
  },
  {
   "cell_type": "code",
   "execution_count": 112,
   "id": "naval-sugar",
   "metadata": {},
   "outputs": [
    {
     "name": "stderr",
     "output_type": "stream",
     "text": [
      "/Users/xinsongdu/.pyenv/versions/miniconda3-latest/lib/python3.8/site-packages/IPython/core/interactiveshell.py:3146: DtypeWarning: Columns (14) have mixed types.Specify dtype option on import or set low_memory=False.\n",
      "  has_raised = await self.run_ast_nodes(code_ast.body, cell_name,\n"
     ]
    }
   ],
   "source": [
    "table_1 = pd.read_csv(\"../manuscript/peak_table/hpc_nf/ms-dial/AlignResult-202212142025.txt\", delimiter=\"\\t\", header=4)"
   ]
  },
  {
   "cell_type": "code",
   "execution_count": 113,
   "id": "absent-aside",
   "metadata": {},
   "outputs": [],
   "source": [
    "table_2 = pd.read_excel(\"../manuscript/benchmark_libs/lib.xlsx\", sheet_name=\"QE HF dataset_TableS8\", header=6)"
   ]
  },
  {
   "cell_type": "code",
   "execution_count": 114,
   "id": "changing-navigator",
   "metadata": {},
   "outputs": [
    {
     "data": {
      "text/plain": [
       "25951"
      ]
     },
     "execution_count": 114,
     "metadata": {},
     "output_type": "execute_result"
    }
   ],
   "source": [
    "len(table_1)"
   ]
  },
  {
   "cell_type": "code",
   "execution_count": 115,
   "id": "naked-terrorism",
   "metadata": {},
   "outputs": [
    {
     "data": {
      "text/plain": [
       "390"
      ]
     },
     "execution_count": 115,
     "metadata": {},
     "output_type": "execute_result"
    }
   ],
   "source": [
    "n_overlapping_peaks(table_1, table_2, \"Average Mz\", \"Average Rt(min)\", 10, 0.3)"
   ]
  },
  {
   "cell_type": "code",
   "execution_count": null,
   "id": "unlimited-musical",
   "metadata": {},
   "outputs": [],
   "source": []
  }
 ],
 "metadata": {
  "kernelspec": {
   "display_name": "Python 3",
   "language": "python",
   "name": "python3"
  },
  "language_info": {
   "codemirror_mode": {
    "name": "ipython",
    "version": 3
   },
   "file_extension": ".py",
   "mimetype": "text/x-python",
   "name": "python",
   "nbconvert_exporter": "python",
   "pygments_lexer": "ipython3",
   "version": "3.8.15"
  }
 },
 "nbformat": 4,
 "nbformat_minor": 5
}
